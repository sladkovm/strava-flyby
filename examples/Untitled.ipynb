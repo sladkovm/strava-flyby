{
 "cells": [
  {
   "cell_type": "code",
   "execution_count": 17,
   "metadata": {},
   "outputs": [],
   "source": [
    "from flyby import flyby\n",
    "import json\n",
    "import requests"
   ]
  },
  {
   "cell_type": "code",
   "execution_count": 6,
   "metadata": {},
   "outputs": [],
   "source": [
    "id = 2488860384\n",
    "fb = flyby(2488860384)"
   ]
  },
  {
   "cell_type": "code",
   "execution_count": 14,
   "metadata": {},
   "outputs": [],
   "source": [
    "\"\"\"\n",
    "Accept: application/json, text/javascript, */*; q=0.01\n",
    "Origin: https://labs.strava.com\n",
    "Referer: https://labs.strava.com/flyby/viewer/\n",
    "\"\"\"\n",
    "\n",
    "\n",
    "headers = {'referer': 'https://labs.strava.com/flyby/viewer/',\n",
    "           'origin': 'https://labs.strava.com'}"
   ]
  },
  {
   "cell_type": "code",
   "execution_count": 15,
   "metadata": {},
   "outputs": [
    {
     "data": {
      "text/plain": [
       "'{\"activity\":{\"id\":2488860384,\"athleteId\":1202065,\"startTime\":1561778190,\"elapsedTime\":14563.0,\"name\":\"Morning Ride\",\"distance\":77472.6,\"activityType\":\"Ride\"},\"matches\":[{\"otherActivity\":{\"id\":2488875546,\"athleteId\":25524114,\"startTime\":1561789014,\"elapsedTime\":3900.0,\"name\":\"#TeamKurzeHose\",\"distance\":7941.2,\"activityType\":\"Run\"},\"correlation\":{\"correlation\":0.0,\"spatialCorrelation\":0.0,\"closestPoint\":{\"point\":{\"lat\":47.082935,\"lng\":15.426984},\"time\":1.561792297E9},\"closestDistance\":0.0}},{\"otherActivity\":{\"id\":2488950207,\"athleteId\":26830901,\"startTime\":1561788636,\"elapsedTime\":6713.0,\"name\":\"Fahrt am Morgen\",\"distance\":31048.7,\"activityType\":\"Ride\"},\"correlation\":{\"correlation\":0.0,\"spatialCorrelation\":0.0,\"closestPoint\":{\"point\":{\"lat\":47.21656,\"lng\":15.41147},\"time\":1.561789263E9},\"closestDistance\":0.0}},{\"otherActivity\":{\"id\":2489082077,\"athleteId\":26830901,\"startTime\":1561788700,\"elapsedTime\":6670.0,\"name\":\"Fahrt am Morgen\",\"distance\":31260.7,\"activityType\":\"Ride\"},\"correlation\":{\"correlation\":0.0,\"spatialCorrelation\":0.0,\"closestPoint\":{\"point\":{\"lat\":47.216595,\"lng\":15.411493},\"time\":1.561789264E9},\"closestDistance\":0.0}},{\"otherActivity\":{\"id\":2489084668,\"athleteId\":8323023,\"startTime\":1561782503,\"elapsedTime\":11285.0,\"name\":\"Morning Ride\",\"distance\":55896.0,\"activityType\":\"Ride\"},\"correlation\":{\"correlation\":0.0,\"spatialCorrelation\":0.0,\"closestPoint\":{\"point\":{\"lat\":47.18706,\"lng\":15.481661},\"time\":1.5617862E9},\"closestDistance\":0.0}},{\"otherActivity\":{\"id\":2489165854,\"athleteId\":14612385,\"startTime\":1561788822,\"elapsedTime\":10800.0,\"name\":\"Rechberg, Semriach, Schöckl\",\"distance\":78645.6,\"activityType\":\"Ride\"},\"correlation\":{\"correlation\":0.0,\"spatialCorrelation\":0.0,\"closestPoint\":{\"point\":{\"lat\":47.160164,\"lng\":15.325238},\"time\":1.561790408E9},\"closestDistance\":0.0}},{\"otherActivity\":{\"id\":2489349191,\"athleteId\":41776761,\"startTime\":1561792445,\"elapsedTime\":11135.0,\"name\":\"Radfahrt am Morgen 🔆🚴\\u200d♀️\",\"distance\":70341.6,\"activityType\":\"Ride\"},\"correlation\":{\"correlation\":0.0,\"spatialCorrelation\":0.0,\"closestPoint\":{\"point\":{\"lat\":47.085503,\"lng\":15.435823},\"time\":1.561792445E9},\"closestDistance\":0.0}},{\"otherActivity\":{\"id\":2489373043,\"athleteId\":33830018,\"startTime\":1561791636,\"elapsedTime\":13269.0,\"name\":\"Schöckel von hinten \",\"distance\":62176.8,\"activityType\":\"Ride\"},\"correlation\":{\"correlation\":0.0,\"spatialCorrelation\":0.0,\"closestPoint\":{\"point\":{\"lat\":47.085426,\"lng\":15.425433},\"time\":1.561792565E9},\"closestDistance\":0.0}},{\"otherActivity\":{\"id\":2489384131,\"athleteId\":22263236,\"startTime\":1561791936,\"elapsedTime\":8099.0,\"name\":\"Fahrt am Morgen\",\"distance\":60792.4,\"activityType\":\"Ride\"},\"correlation\":{\"correlation\":0.0,\"spatialCorrelation\":0.0,\"closestPoint\":{\"point\":{\"lat\":47.105843,\"lng\":15.413219},\"time\":1.561792032E9},\"closestDistance\":0.0}},{\"otherActivity\":{\"id\":2489557688,\"athleteId\":39728664,\"startTime\":1561788882,\"elapsedTime\":16956.0,\"name\":\"Auf ☕ und 🍰 nach Bruck an der Mur😉\",\"distance\":111936.0,\"activityType\":\"Ride\"},\"correlation\":{\"correlation\":0.0,\"spatialCorrelation\":0.0,\"closestPoint\":{\"point\":{\"lat\":47.158108,\"lng\":15.324773},\"time\":1.561790424E9},\"closestDistance\":0.0}},{\"otherActivity\":{\"id\":2489584376,\"athleteId\":41712235,\"startTime\":1561791268,\"elapsedTime\":15869.0,\"name\":\"St. Pankratzen - Cyclemeter\",\"distance\":65227.6,\"activityType\":\"Ride\"},\"correlation\":{\"correlation\":0.0,\"spatialCorrelation\":0.0,\"closestPoint\":{\"point\":{\"lat\":47.104218,\"lng\":15.413869},\"time\":1.561791876E9},\"closestDistance\":0.0}},{\"otherActivity\":{\"id\":2489638953,\"athleteId\":8623215,\"startTime\":1561790351,\"elapsedTime\":4370.0,\"name\":\"Jetlag recovery run\",\"distance\":11999.2,\"activityType\":\"Run\"},\"correlation\":{\"correlation\":0.0,\"spatialCorrelation\":0.0,\"closestPoint\":{\"point\":{\"lat\":47.094162,\"lng\":15.418637},\"time\":1.56179213E9},\"closestDistance\":0.0}},{\"otherActivity\":{\"id\":2489689813,\"athleteId\":4437852,\"startTime\":1561786070,\"elapsedTime\":24745.0,\"name\":\"3000Hm ✅\",\"distance\":102700.0,\"activityType\":\"Ride\"},\"correlation\":{\"correlation\":0.0,\"spatialCorrelation\":0.0,\"closestPoint\":{\"point\":{\"lat\":47.122383,\"lng\":15.346913},\"time\":1.561791238E9},\"closestDistance\":0.0}},{\"otherActivity\":{\"id\":2489699251,\"athleteId\":3939269,\"startTime\":1561791972,\"elapsedTime\":12458.0,\"name\":\"KA 2\",\"distance\":91904.4,\"activityType\":\"Ride\"},\"correlation\":{\"correlation\":0.0,\"spatialCorrelation\":0.0,\"closestPoint\":{\"point\":{\"lat\":47.09301,\"lng\":15.421918},\"time\":1.561792321E9},\"closestDistance\":0.0}},{\"otherActivity\":{\"id\":2490500530,\"athleteId\":36676474,\"startTime\":1561790049,\"elapsedTime\":37960.0,\"name\":\"Graz - Windischgarsten\",\"distance\":191517.0,\"activityType\":\"Ride\"},\"correlation\":{\"correlation\":0.0,\"spatialCorrelation\":0.0,\"closestPoint\":{\"point\":{\"lat\":47.09401,\"lng\":15.418773},\"time\":1.561792246E9},\"closestDistance\":0.0}},{\"otherActivity\":{\"id\":2493704179,\"athleteId\":22466332,\"startTime\":1561789056,\"elapsedTime\":5901.0,\"name\":\"Lauf am Morgen\",\"distance\":7188.9,\"activityType\":\"Run\"},\"correlation\":{\"correlation\":0.0,\"spatialCorrelation\":0.0,\"closestPoint\":{\"point\":{\"lat\":47.15165,\"lng\":15.334122},\"time\":1.561790519E9},\"closestDistance\":0.0}},{\"otherActivity\":{\"id\":2488860384,\"athleteId\":1202065,\"startTime\":1561778190,\"elapsedTime\":14563.0,\"name\":\"Morning Ride\",\"distance\":77472.6,\"activityType\":\"Ride\"},\"correlation\":{\"correlation\":0.0,\"spatialCorrelation\":0.0,\"closestPoint\":{\"point\":{\"lat\":47.0833,\"lng\":15.438029},\"time\":1.561778246E9},\"closestDistance\":0.0}},{\"otherActivity\":{\"id\":2488860384,\"athleteId\":1202065,\"startTime\":1561778190,\"elapsedTime\":14563.0,\"name\":\"Morning Ride\",\"distance\":77472.6,\"activityType\":\"Ride\"},\"correlation\":{\"correlation\":1.0,\"spatialCorrelation\":1.0,\"closestPoint\":{\"point\":{\"lat\":0.0,\"lng\":0.0},\"time\":0.0},\"closestDistance\":0.0}}],\"athletes\":{\"25524114\":{\"id\":25524114,\"firstName\":\"Tom\"},\"26830901\":{\"id\":26830901,\"firstName\":\"wolfgang\"},\"8623215\":{\"id\":8623215,\"firstName\":\"Bernhard\"},\"39728664\":{\"id\":39728664,\"firstName\":\"Kevin\"},\"3939269\":{\"id\":3939269,\"firstName\":\"T\"},\"1202065\":{\"id\":1202065,\"firstName\":\"Maksym\"},\"33830018\":{\"id\":33830018,\"firstName\":\"Peter\"},\"22263236\":{\"id\":22263236,\"firstName\":\"Michael\"},\"41776761\":{\"id\":41776761,\"firstName\":\"Romana\"},\"22466332\":{\"id\":22466332,\"firstName\":\"Monika\"},\"36676474\":{\"id\":36676474,\"firstName\":\"Wolfgang\"},\"14612385\":{\"id\":14612385,\"firstName\":\"Alban\"},\"8323023\":{\"id\":8323023,\"firstName\":\"max\"},\"41712235\":{\"id\":41712235,\"firstName\":\"Wer\"},\"4437852\":{\"id\":4437852,\"firstName\":\"Aiko\"}}}'"
      ]
     },
     "execution_count": 15,
     "metadata": {},
     "output_type": "execute_result"
    }
   ],
   "source": [
    "r = requests.get(f\"https://nene.strava.com/flyby/matches/{id}\", headers=headers)\n",
    "r.text"
   ]
  },
  {
   "cell_type": "code",
   "execution_count": 20,
   "metadata": {},
   "outputs": [],
   "source": [
    "d = json.loads(r.text)"
   ]
  },
  {
   "cell_type": "code",
   "execution_count": 24,
   "metadata": {},
   "outputs": [
    {
     "data": {
      "text/plain": [
       "17"
      ]
     },
     "execution_count": 24,
     "metadata": {},
     "output_type": "execute_result"
    }
   ],
   "source": [
    "len(d['matches'])"
   ]
  }
 ],
 "metadata": {
  "kernelspec": {
   "display_name": "Python 3",
   "language": "python",
   "name": "python3"
  },
  "language_info": {
   "codemirror_mode": {
    "name": "ipython",
    "version": 3
   },
   "file_extension": ".py",
   "mimetype": "text/x-python",
   "name": "python",
   "nbconvert_exporter": "python",
   "pygments_lexer": "ipython3",
   "version": "3.6.5"
  }
 },
 "nbformat": 4,
 "nbformat_minor": 2
}
