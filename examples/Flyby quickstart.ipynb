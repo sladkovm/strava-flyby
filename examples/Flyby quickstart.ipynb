{
 "cells": [
  {
   "cell_type": "code",
   "execution_count": 16,
   "metadata": {},
   "outputs": [
    {
     "name": "stdout",
     "output_type": "stream",
     "text": [
      "The autoreload extension is already loaded. To reload it, use:\n",
      "  %reload_ext autoreload\n"
     ]
    }
   ],
   "source": [
    "from flyby import flyby\n",
    "\n",
    "%load_ext autoreload\n",
    "%autoreload 2"
   ]
  },
  {
   "cell_type": "code",
   "execution_count": 17,
   "metadata": {},
   "outputs": [
    {
     "name": "stderr",
     "output_type": "stream",
     "text": [
      "2019-07-01 09:36:20.056 | INFO     | flyby:_request_strava_flyby:42 - Requesting Strava Flyby for activity ID = 2488860384\n"
     ]
    }
   ],
   "source": [
    "fb = flyby(2488860384)"
   ]
  },
  {
   "cell_type": "code",
   "execution_count": 18,
   "metadata": {},
   "outputs": [
    {
     "data": {
      "text/plain": [
       "Flyby object with 17 matches. \n",
       "        Attributes: activity, matches, athletes\n",
       "        Methods: matches_to_list(), matches_to_json()"
      ]
     },
     "execution_count": 18,
     "metadata": {},
     "output_type": "execute_result"
    }
   ],
   "source": [
    "fb"
   ]
  },
  {
   "cell_type": "code",
   "execution_count": 22,
   "metadata": {},
   "outputs": [
    {
     "data": {
      "text/plain": [
       "[2488950207, 2489082077]"
      ]
     },
     "execution_count": 22,
     "metadata": {},
     "output_type": "execute_result"
    }
   ],
   "source": [
    "fb.get_ids(distance=(30, 40))"
   ]
  },
  {
   "cell_type": "code",
   "execution_count": 23,
   "metadata": {},
   "outputs": [
    {
     "data": {
      "text/plain": [
       "[{'activityType': 'Ride',\n",
       "  'athleteId': 26830901,\n",
       "  'closestDistance': 0.0,\n",
       "  'closestPoint': {'point': {'lat': 47.21656, 'lng': 15.41147},\n",
       "   'time': 1561789263.0},\n",
       "  'correlation': 0.0,\n",
       "  'distance': 31048.7,\n",
       "  'elapsedTime': 6713.0,\n",
       "  'id': 2488950207,\n",
       "  'name': 'Fahrt am Morgen',\n",
       "  'spatialCorrelation': 0.0,\n",
       "  'startTime': 1561788636},\n",
       " {'activityType': 'Ride',\n",
       "  'athleteId': 26830901,\n",
       "  'closestDistance': 0.0,\n",
       "  'closestPoint': {'point': {'lat': 47.216595, 'lng': 15.411493},\n",
       "   'time': 1561789264.0},\n",
       "  'correlation': 0.0,\n",
       "  'distance': 31260.7,\n",
       "  'elapsedTime': 6670.0,\n",
       "  'id': 2489082077,\n",
       "  'name': 'Fahrt am Morgen',\n",
       "  'spatialCorrelation': 0.0,\n",
       "  'startTime': 1561788700}]"
      ]
     },
     "execution_count": 23,
     "metadata": {},
     "output_type": "execute_result"
    }
   ],
   "source": [
    "fb.matches_to_list(distance=(30, 40))"
   ]
  }
 ],
 "metadata": {
  "kernelspec": {
   "display_name": "Python 3",
   "language": "python",
   "name": "python3"
  },
  "language_info": {
   "codemirror_mode": {
    "name": "ipython",
    "version": 3
   },
   "file_extension": ".py",
   "mimetype": "text/x-python",
   "name": "python",
   "nbconvert_exporter": "python",
   "pygments_lexer": "ipython3",
   "version": "3.6.5"
  }
 },
 "nbformat": 4,
 "nbformat_minor": 2
}
